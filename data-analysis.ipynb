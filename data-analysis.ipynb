{
 "cells": [
  {
   "cell_type": "code",
   "execution_count": 1,
   "id": "72213e36-3ff9-489f-95c8-59bf46b5b3e8",
   "metadata": {
    "tags": []
   },
   "outputs": [
    {
     "name": "stderr",
     "output_type": "stream",
     "text": [
      "/Users/ariankalantari/anaconda3/lib/python3.11/site-packages/pandas/core/arrays/masked.py:60: UserWarning: Pandas requires version '1.3.6' or newer of 'bottleneck' (version '1.3.5' currently installed).\n",
      "  from pandas.core import (\n"
     ]
    }
   ],
   "source": [
    "import pandas as pd\n",
    "import numpy as np\n",
    "import re"
   ]
  },
  {
   "cell_type": "markdown",
   "id": "7ef3b814-11ad-4855-bdc8-96d8c104b577",
   "metadata": {
    "tags": []
   },
   "source": [
    "# Exploratory Data Analysis\n",
    "\n",
    "We first need to explore the dataset to find some patterns or some improvements we could possibly make when manupilating the data. This will help us work with appropreately cleaned data, and dive deeper to extract insights."
   ]
  },
  {
   "cell_type": "markdown",
   "id": "9bd5160d-4345-4326-8d38-4f6e9d715009",
   "metadata": {},
   "source": [
    "## Loading Dataset"
   ]
  },
  {
   "cell_type": "code",
   "execution_count": 2,
   "id": "32e0b97b-c80f-4ca3-bcb6-ebf1d2b53228",
   "metadata": {
    "tags": []
   },
   "outputs": [
    {
     "data": {
      "text/plain": [
       "3925"
      ]
     },
     "execution_count": 2,
     "metadata": {},
     "output_type": "execute_result"
    }
   ],
   "source": [
    "df = pd.read_csv('data/scraped_data.csv')\n",
    "len(df)"
   ]
  },
  {
   "cell_type": "code",
   "execution_count": 3,
   "id": "965d4227-6330-4f1d-a502-2270b6dc8271",
   "metadata": {
    "tags": []
   },
   "outputs": [
    {
     "data": {
      "text/html": [
       "<div>\n",
       "<style scoped>\n",
       "    .dataframe tbody tr th:only-of-type {\n",
       "        vertical-align: middle;\n",
       "    }\n",
       "\n",
       "    .dataframe tbody tr th {\n",
       "        vertical-align: top;\n",
       "    }\n",
       "\n",
       "    .dataframe thead th {\n",
       "        text-align: right;\n",
       "    }\n",
       "</style>\n",
       "<table border=\"1\" class=\"dataframe\">\n",
       "  <thead>\n",
       "    <tr style=\"text-align: right;\">\n",
       "      <th></th>\n",
       "      <th>posted_date</th>\n",
       "      <th>is_verified</th>\n",
       "      <th>comment</th>\n",
       "      <th>aircraft</th>\n",
       "      <th>traveller_type</th>\n",
       "      <th>cabin_class</th>\n",
       "      <th>route</th>\n",
       "      <th>flight_date</th>\n",
       "      <th>seat_comfort_rating</th>\n",
       "      <th>cabin_staff_service_rating</th>\n",
       "      <th>food_and_beverages_rating</th>\n",
       "      <th>inflight_entertainment_rating</th>\n",
       "      <th>ground_service_rating</th>\n",
       "      <th>wifi_and_connectivity_rating</th>\n",
       "      <th>value_for_money_rating</th>\n",
       "      <th>is_recommended</th>\n",
       "    </tr>\n",
       "  </thead>\n",
       "  <tbody>\n",
       "    <tr>\n",
       "      <th>0</th>\n",
       "      <td>2025-03-31</td>\n",
       "      <td>Not Verified</td>\n",
       "      <td>Not Verified|  Very good service on this route...</td>\n",
       "      <td>A320</td>\n",
       "      <td>Couple Leisure</td>\n",
       "      <td>Business Class</td>\n",
       "      <td>London Gatwick to Fuerteventura</td>\n",
       "      <td>March 2025</td>\n",
       "      <td>4.0</td>\n",
       "      <td>5.0</td>\n",
       "      <td>5.0</td>\n",
       "      <td>NaN</td>\n",
       "      <td>4.0</td>\n",
       "      <td>NaN</td>\n",
       "      <td>4.0</td>\n",
       "      <td>yes</td>\n",
       "    </tr>\n",
       "    <tr>\n",
       "      <th>1</th>\n",
       "      <td>2025-03-19</td>\n",
       "      <td>Trip Verified</td>\n",
       "      <td>✅Trip Verified|   Flight mainly let down by a ...</td>\n",
       "      <td>Boeing 787</td>\n",
       "      <td>Solo Leisure</td>\n",
       "      <td>Business Class</td>\n",
       "      <td>Cape Town to London</td>\n",
       "      <td>March 2025</td>\n",
       "      <td>5.0</td>\n",
       "      <td>2.0</td>\n",
       "      <td>5.0</td>\n",
       "      <td>5.0</td>\n",
       "      <td>4.0</td>\n",
       "      <td>1.0</td>\n",
       "      <td>4.0</td>\n",
       "      <td>yes</td>\n",
       "    </tr>\n",
       "    <tr>\n",
       "      <th>2</th>\n",
       "      <td>2025-03-16</td>\n",
       "      <td>Trip Verified</td>\n",
       "      <td>✅Trip Verified|   Another awful experience by ...</td>\n",
       "      <td>NaN</td>\n",
       "      <td>Business</td>\n",
       "      <td>Business Class</td>\n",
       "      <td>London to Geneva</td>\n",
       "      <td>December 2024</td>\n",
       "      <td>1.0</td>\n",
       "      <td>1.0</td>\n",
       "      <td>NaN</td>\n",
       "      <td>NaN</td>\n",
       "      <td>1.0</td>\n",
       "      <td>NaN</td>\n",
       "      <td>1.0</td>\n",
       "      <td>no</td>\n",
       "    </tr>\n",
       "    <tr>\n",
       "      <th>3</th>\n",
       "      <td>2025-03-16</td>\n",
       "      <td>Trip Verified</td>\n",
       "      <td>✅Trip Verified|   The service was rude, full o...</td>\n",
       "      <td>NaN</td>\n",
       "      <td>Business</td>\n",
       "      <td>Premium Economy</td>\n",
       "      <td>London to New York</td>\n",
       "      <td>January 2025</td>\n",
       "      <td>1.0</td>\n",
       "      <td>1.0</td>\n",
       "      <td>1.0</td>\n",
       "      <td>NaN</td>\n",
       "      <td>5.0</td>\n",
       "      <td>NaN</td>\n",
       "      <td>1.0</td>\n",
       "      <td>no</td>\n",
       "    </tr>\n",
       "  </tbody>\n",
       "</table>\n",
       "</div>"
      ],
      "text/plain": [
       "  posted_date    is_verified  \\\n",
       "0  2025-03-31   Not Verified   \n",
       "1  2025-03-19  Trip Verified   \n",
       "2  2025-03-16  Trip Verified   \n",
       "3  2025-03-16  Trip Verified   \n",
       "\n",
       "                                             comment    aircraft  \\\n",
       "0  Not Verified|  Very good service on this route...        A320   \n",
       "1  ✅Trip Verified|   Flight mainly let down by a ...  Boeing 787   \n",
       "2  ✅Trip Verified|   Another awful experience by ...         NaN   \n",
       "3  ✅Trip Verified|   The service was rude, full o...         NaN   \n",
       "\n",
       "   traveller_type      cabin_class                            route  \\\n",
       "0  Couple Leisure   Business Class  London Gatwick to Fuerteventura   \n",
       "1    Solo Leisure   Business Class              Cape Town to London   \n",
       "2        Business   Business Class                 London to Geneva   \n",
       "3        Business  Premium Economy               London to New York   \n",
       "\n",
       "     flight_date  seat_comfort_rating  cabin_staff_service_rating  \\\n",
       "0     March 2025                  4.0                         5.0   \n",
       "1     March 2025                  5.0                         2.0   \n",
       "2  December 2024                  1.0                         1.0   \n",
       "3   January 2025                  1.0                         1.0   \n",
       "\n",
       "   food_and_beverages_rating  inflight_entertainment_rating  \\\n",
       "0                        5.0                            NaN   \n",
       "1                        5.0                            5.0   \n",
       "2                        NaN                            NaN   \n",
       "3                        1.0                            NaN   \n",
       "\n",
       "   ground_service_rating  wifi_and_connectivity_rating  \\\n",
       "0                    4.0                           NaN   \n",
       "1                    4.0                           1.0   \n",
       "2                    1.0                           NaN   \n",
       "3                    5.0                           NaN   \n",
       "\n",
       "   value_for_money_rating is_recommended  \n",
       "0                     4.0            yes  \n",
       "1                     4.0            yes  \n",
       "2                     1.0             no  \n",
       "3                     1.0             no  "
      ]
     },
     "execution_count": 3,
     "metadata": {},
     "output_type": "execute_result"
    }
   ],
   "source": [
    "df[0:4]"
   ]
  },
  {
   "cell_type": "markdown",
   "id": "0e65170f-48a4-4beb-9352-c82d111f865b",
   "metadata": {},
   "source": [
    "From the look of the dataset, we can see some possibility of improvements:\n",
    "\n",
    "- route can be divided into departing_location and arrival_location\n",
    "- is_verified could be binary (yes = 1, no = 0)\n",
    "- is_recommended could be binary (yes = 1, no = 0)\n",
    "\n",
    "We can first make some data manupilation on above. Let's get started."
   ]
  },
  {
   "cell_type": "code",
   "execution_count": 4,
   "id": "7243b3e6-f80c-49fb-9777-1911b4526849",
   "metadata": {
    "tags": []
   },
   "outputs": [
    {
     "name": "stdout",
     "output_type": "stream",
     "text": [
      "<class 'pandas.core.frame.DataFrame'>\n",
      "RangeIndex: 3925 entries, 0 to 3924\n",
      "Data columns (total 16 columns):\n",
      " #   Column                         Non-Null Count  Dtype  \n",
      "---  ------                         --------------  -----  \n",
      " 0   posted_date                    3925 non-null   object \n",
      " 1   is_verified                    1611 non-null   object \n",
      " 2   comment                        3925 non-null   object \n",
      " 3   aircraft                       2045 non-null   object \n",
      " 4   traveller_type                 3154 non-null   object \n",
      " 5   cabin_class                    3923 non-null   object \n",
      " 6   route                          3149 non-null   object \n",
      " 7   flight_date                    3147 non-null   object \n",
      " 8   seat_comfort_rating            3798 non-null   float64\n",
      " 9   cabin_staff_service_rating     3783 non-null   float64\n",
      " 10  food_and_beverages_rating      3485 non-null   float64\n",
      " 11  inflight_entertainment_rating  2670 non-null   float64\n",
      " 12  ground_service_rating          3075 non-null   float64\n",
      " 13  wifi_and_connectivity_rating   688 non-null    float64\n",
      " 14  value_for_money_rating         3924 non-null   float64\n",
      " 15  is_recommended                 3925 non-null   object \n",
      "dtypes: float64(7), object(9)\n",
      "memory usage: 490.8+ KB\n"
     ]
    }
   ],
   "source": [
    "df.info()"
   ]
  },
  {
   "cell_type": "code",
   "execution_count": 5,
   "id": "effcd9b6-c428-47f0-9dc7-37e3e58adef6",
   "metadata": {
    "tags": []
   },
   "outputs": [
    {
     "data": {
      "text/plain": [
       "route\n",
       "London to Johannesburg          21\n",
       "Vancouver to London             17\n",
       "Johannesburg to London          17\n",
       "London to Hong Kong             15\n",
       "London to Cape Town             15\n",
       "                                ..\n",
       "London Heathrow to Houston       1\n",
       "London to Gibraltar              1\n",
       "London Heathrow to Bengaluru     1\n",
       "London City to Zurich            1\n",
       "BOM-LHR                          1\n",
       "Name: count, Length: 1637, dtype: int64"
      ]
     },
     "execution_count": 5,
     "metadata": {},
     "output_type": "execute_result"
    }
   ],
   "source": [
    "df.route.value_counts()"
   ]
  },
  {
   "cell_type": "code",
   "execution_count": 6,
   "id": "c2e85d66-d5d5-446f-ac4c-fe812c8337b0",
   "metadata": {
    "tags": []
   },
   "outputs": [
    {
     "name": "stdout",
     "output_type": "stream",
     "text": [
      "3925\n",
      "3925\n",
      "3925\n"
     ]
    }
   ],
   "source": [
    "departures = []\n",
    "arrivals = []\n",
    "vias = []\n",
    "\n",
    "def parse_route(route):\n",
    "    if not isinstance(route, str):\n",
    "        departures.append(None)\n",
    "        arrivals.append(None)\n",
    "        vias.append(None)\n",
    "        return\n",
    "    \n",
    "    # Case 1: With via\n",
    "    if 'via' in route:\n",
    "        pattern = r'^(.*) to (.*) via (.*)$'\n",
    "        match = re.match(pattern, route)\n",
    "        if match:\n",
    "            departure, arrival, via = match.groups()\n",
    "            departures.append(departure.strip())\n",
    "            arrivals.append(arrival.strip())\n",
    "            vias.append(via.strip())\n",
    "            return\n",
    "    \n",
    "    # Case 2: Direct\n",
    "    elif 'to' in route:\n",
    "        pattern = r'^(.*) to (.*)$'\n",
    "        match = re.match(pattern, route)\n",
    "        if match:\n",
    "            departure, arrival = match.groups()\n",
    "            departures.append(departure.strip())\n",
    "            arrivals.append(arrival.strip())\n",
    "            vias.append(None)\n",
    "            return\n",
    "    \n",
    "    # Case 3: Unrecognizable format\n",
    "    departures.append(None)\n",
    "    arrivals.append(None)\n",
    "    vias.append(None)\n",
    "\n",
    "for route in df.route:\n",
    "    parse_route(route)\n",
    "\n",
    "print(len(departures))\n",
    "print(len(arrivals))\n",
    "print(len(vias))"
   ]
  },
  {
   "cell_type": "code",
   "execution_count": 7,
   "id": "61b8f542-6f1f-4e1f-8d71-faf290fa36a2",
   "metadata": {
    "tags": []
   },
   "outputs": [],
   "source": [
    "df[\"departure\"] = departures\n",
    "df[\"arrivals\"] = arrivals\n",
    "df[\"via\"] = vias"
   ]
  },
  {
   "cell_type": "code",
   "execution_count": 8,
   "id": "f917cf70-b7d6-4544-b54e-0384437498bf",
   "metadata": {
    "tags": []
   },
   "outputs": [
    {
     "data": {
      "text/plain": [
       "0       0\n",
       "1       1\n",
       "2       1\n",
       "3       1\n",
       "4       1\n",
       "       ..\n",
       "3920    0\n",
       "3921    0\n",
       "3922    0\n",
       "3923    0\n",
       "3924    0\n",
       "Name: is_verified, Length: 3925, dtype: int64"
      ]
     },
     "execution_count": 8,
     "metadata": {},
     "output_type": "execute_result"
    }
   ],
   "source": [
    "# is_verified can be converted into binary value.\n",
    "df.is_verified = df.is_verified.fillna(0)\n",
    "df.is_verified = np.where(df['is_verified'] == 'Trip Verified', 1, 0)\n",
    "\n",
    "df.is_verified"
   ]
  },
  {
   "cell_type": "code",
   "execution_count": 9,
   "id": "3278bcb0-ea25-4f66-ac28-e22638d19ce4",
   "metadata": {
    "tags": []
   },
   "outputs": [
    {
     "data": {
      "text/plain": [
       "0       1\n",
       "1       1\n",
       "2       0\n",
       "3       0\n",
       "4       0\n",
       "       ..\n",
       "3920    1\n",
       "3921    1\n",
       "3922    1\n",
       "3923    0\n",
       "3924    0\n",
       "Name: is_recommended, Length: 3925, dtype: int64"
      ]
     },
     "execution_count": 9,
     "metadata": {},
     "output_type": "execute_result"
    }
   ],
   "source": [
    "# is_recommended can be converted into binary value.\n",
    "df.is_recommended = np.where(df['is_recommended'] == 'yes', 1, 0)\n",
    "\n",
    "df.is_recommended"
   ]
  },
  {
   "cell_type": "code",
   "execution_count": 10,
   "id": "9b379284-6af1-4810-96cb-671b1c1cd20b",
   "metadata": {
    "tags": []
   },
   "outputs": [
    {
     "name": "stdout",
     "output_type": "stream",
     "text": [
      "<class 'pandas.core.frame.DataFrame'>\n",
      "RangeIndex: 3925 entries, 0 to 3924\n",
      "Data columns (total 19 columns):\n",
      " #   Column                         Non-Null Count  Dtype  \n",
      "---  ------                         --------------  -----  \n",
      " 0   posted_date                    3925 non-null   object \n",
      " 1   is_verified                    3925 non-null   int64  \n",
      " 2   comment                        3925 non-null   object \n",
      " 3   aircraft                       2045 non-null   object \n",
      " 4   traveller_type                 3154 non-null   object \n",
      " 5   cabin_class                    3923 non-null   object \n",
      " 6   route                          3149 non-null   object \n",
      " 7   flight_date                    3147 non-null   object \n",
      " 8   seat_comfort_rating            3798 non-null   float64\n",
      " 9   cabin_staff_service_rating     3783 non-null   float64\n",
      " 10  food_and_beverages_rating      3485 non-null   float64\n",
      " 11  inflight_entertainment_rating  2670 non-null   float64\n",
      " 12  ground_service_rating          3075 non-null   float64\n",
      " 13  wifi_and_connectivity_rating   688 non-null    float64\n",
      " 14  value_for_money_rating         3924 non-null   float64\n",
      " 15  is_recommended                 3925 non-null   int64  \n",
      " 16  departure                      3133 non-null   object \n",
      " 17  arrivals                       3133 non-null   object \n",
      " 18  via                            550 non-null    object \n",
      "dtypes: float64(7), int64(2), object(10)\n",
      "memory usage: 582.7+ KB\n"
     ]
    }
   ],
   "source": [
    "df.info()"
   ]
  },
  {
   "cell_type": "code",
   "execution_count": 12,
   "id": "0cfa9b54-32b4-4fcb-9642-7aacf7f043d5",
   "metadata": {
    "tags": []
   },
   "outputs": [
    {
     "data": {
      "text/html": [
       "<div>\n",
       "<style scoped>\n",
       "    .dataframe tbody tr th:only-of-type {\n",
       "        vertical-align: middle;\n",
       "    }\n",
       "\n",
       "    .dataframe tbody tr th {\n",
       "        vertical-align: top;\n",
       "    }\n",
       "\n",
       "    .dataframe thead th {\n",
       "        text-align: right;\n",
       "    }\n",
       "</style>\n",
       "<table border=\"1\" class=\"dataframe\">\n",
       "  <thead>\n",
       "    <tr style=\"text-align: right;\">\n",
       "      <th></th>\n",
       "      <th>posted_date</th>\n",
       "      <th>is_verified</th>\n",
       "      <th>comment</th>\n",
       "      <th>aircraft</th>\n",
       "      <th>traveller_type</th>\n",
       "      <th>cabin_class</th>\n",
       "      <th>route</th>\n",
       "      <th>flight_date</th>\n",
       "      <th>seat_comfort_rating</th>\n",
       "      <th>cabin_staff_service_rating</th>\n",
       "      <th>food_and_beverages_rating</th>\n",
       "      <th>inflight_entertainment_rating</th>\n",
       "      <th>ground_service_rating</th>\n",
       "      <th>wifi_and_connectivity_rating</th>\n",
       "      <th>value_for_money_rating</th>\n",
       "      <th>is_recommended</th>\n",
       "      <th>departure</th>\n",
       "      <th>arrivals</th>\n",
       "      <th>via</th>\n",
       "    </tr>\n",
       "  </thead>\n",
       "  <tbody>\n",
       "    <tr>\n",
       "      <th>287</th>\n",
       "      <td>2023-09-01</td>\n",
       "      <td>1</td>\n",
       "      <td>✅Trip Verified|  British Airways absolutely do...</td>\n",
       "      <td>Boeing 777</td>\n",
       "      <td>NaN</td>\n",
       "      <td>Economy Class</td>\n",
       "      <td>Los Angeles to London</td>\n",
       "      <td>August 2023</td>\n",
       "      <td>1.0</td>\n",
       "      <td>1.0</td>\n",
       "      <td>1.0</td>\n",
       "      <td>1.0</td>\n",
       "      <td>1.0</td>\n",
       "      <td>NaN</td>\n",
       "      <td>1.0</td>\n",
       "      <td>0</td>\n",
       "      <td>Los Angeles</td>\n",
       "      <td>London</td>\n",
       "      <td>None</td>\n",
       "    </tr>\n",
       "    <tr>\n",
       "      <th>565</th>\n",
       "      <td>2022-07-13</td>\n",
       "      <td>1</td>\n",
       "      <td>✅Trip Verified|  Over 1 week ago I cancelled 2...</td>\n",
       "      <td>NaN</td>\n",
       "      <td>NaN</td>\n",
       "      <td>Business Class</td>\n",
       "      <td>London to Malaga</td>\n",
       "      <td>July 2022</td>\n",
       "      <td>NaN</td>\n",
       "      <td>NaN</td>\n",
       "      <td>NaN</td>\n",
       "      <td>NaN</td>\n",
       "      <td>NaN</td>\n",
       "      <td>NaN</td>\n",
       "      <td>1.0</td>\n",
       "      <td>0</td>\n",
       "      <td>London</td>\n",
       "      <td>Malaga</td>\n",
       "      <td>None</td>\n",
       "    </tr>\n",
       "    <tr>\n",
       "      <th>2089</th>\n",
       "      <td>2017-01-26</td>\n",
       "      <td>0</td>\n",
       "      <td>✅Verified Review|  London Heathrow to Chicago ...</td>\n",
       "      <td>NaN</td>\n",
       "      <td>NaN</td>\n",
       "      <td>First Class</td>\n",
       "      <td>LHR to ORD</td>\n",
       "      <td>January 2017</td>\n",
       "      <td>2.0</td>\n",
       "      <td>3.0</td>\n",
       "      <td>2.0</td>\n",
       "      <td>3.0</td>\n",
       "      <td>2.0</td>\n",
       "      <td>NaN</td>\n",
       "      <td>2.0</td>\n",
       "      <td>0</td>\n",
       "      <td>LHR</td>\n",
       "      <td>ORD</td>\n",
       "      <td>None</td>\n",
       "    </tr>\n",
       "    <tr>\n",
       "      <th>3157</th>\n",
       "      <td>2015-06-07</td>\n",
       "      <td>0</td>\n",
       "      <td>Travelled from Venice to Gatwick on 28th May c...</td>\n",
       "      <td>NaN</td>\n",
       "      <td>NaN</td>\n",
       "      <td>Business Class</td>\n",
       "      <td>NaN</td>\n",
       "      <td>NaN</td>\n",
       "      <td>1.0</td>\n",
       "      <td>1.0</td>\n",
       "      <td>1.0</td>\n",
       "      <td>1.0</td>\n",
       "      <td>NaN</td>\n",
       "      <td>NaN</td>\n",
       "      <td>1.0</td>\n",
       "      <td>0</td>\n",
       "      <td>None</td>\n",
       "      <td>None</td>\n",
       "      <td>None</td>\n",
       "    </tr>\n",
       "    <tr>\n",
       "      <th>3158</th>\n",
       "      <td>2015-06-07</td>\n",
       "      <td>0</td>\n",
       "      <td>Worst customer experience on BA flight. I have...</td>\n",
       "      <td>NaN</td>\n",
       "      <td>NaN</td>\n",
       "      <td>Economy Class</td>\n",
       "      <td>NaN</td>\n",
       "      <td>NaN</td>\n",
       "      <td>1.0</td>\n",
       "      <td>1.0</td>\n",
       "      <td>2.0</td>\n",
       "      <td>2.0</td>\n",
       "      <td>NaN</td>\n",
       "      <td>NaN</td>\n",
       "      <td>1.0</td>\n",
       "      <td>0</td>\n",
       "      <td>None</td>\n",
       "      <td>None</td>\n",
       "      <td>None</td>\n",
       "    </tr>\n",
       "    <tr>\n",
       "      <th>...</th>\n",
       "      <td>...</td>\n",
       "      <td>...</td>\n",
       "      <td>...</td>\n",
       "      <td>...</td>\n",
       "      <td>...</td>\n",
       "      <td>...</td>\n",
       "      <td>...</td>\n",
       "      <td>...</td>\n",
       "      <td>...</td>\n",
       "      <td>...</td>\n",
       "      <td>...</td>\n",
       "      <td>...</td>\n",
       "      <td>...</td>\n",
       "      <td>...</td>\n",
       "      <td>...</td>\n",
       "      <td>...</td>\n",
       "      <td>...</td>\n",
       "      <td>...</td>\n",
       "      <td>...</td>\n",
       "    </tr>\n",
       "    <tr>\n",
       "      <th>3920</th>\n",
       "      <td>2012-08-29</td>\n",
       "      <td>0</td>\n",
       "      <td>YYZ to LHR - July 2012 - I flew overnight in p...</td>\n",
       "      <td>NaN</td>\n",
       "      <td>NaN</td>\n",
       "      <td>Premium Economy</td>\n",
       "      <td>NaN</td>\n",
       "      <td>NaN</td>\n",
       "      <td>4.0</td>\n",
       "      <td>3.0</td>\n",
       "      <td>3.0</td>\n",
       "      <td>4.0</td>\n",
       "      <td>NaN</td>\n",
       "      <td>NaN</td>\n",
       "      <td>4.0</td>\n",
       "      <td>1</td>\n",
       "      <td>None</td>\n",
       "      <td>None</td>\n",
       "      <td>None</td>\n",
       "    </tr>\n",
       "    <tr>\n",
       "      <th>3921</th>\n",
       "      <td>2012-08-28</td>\n",
       "      <td>0</td>\n",
       "      <td>LHR to HAM. Purser addresses all club passenge...</td>\n",
       "      <td>NaN</td>\n",
       "      <td>NaN</td>\n",
       "      <td>Business Class</td>\n",
       "      <td>NaN</td>\n",
       "      <td>NaN</td>\n",
       "      <td>4.0</td>\n",
       "      <td>5.0</td>\n",
       "      <td>4.0</td>\n",
       "      <td>NaN</td>\n",
       "      <td>NaN</td>\n",
       "      <td>NaN</td>\n",
       "      <td>3.0</td>\n",
       "      <td>1</td>\n",
       "      <td>None</td>\n",
       "      <td>None</td>\n",
       "      <td>None</td>\n",
       "    </tr>\n",
       "    <tr>\n",
       "      <th>3922</th>\n",
       "      <td>2011-10-12</td>\n",
       "      <td>0</td>\n",
       "      <td>My son who had worked for British Airways urge...</td>\n",
       "      <td>NaN</td>\n",
       "      <td>NaN</td>\n",
       "      <td>Economy Class</td>\n",
       "      <td>NaN</td>\n",
       "      <td>NaN</td>\n",
       "      <td>NaN</td>\n",
       "      <td>NaN</td>\n",
       "      <td>NaN</td>\n",
       "      <td>NaN</td>\n",
       "      <td>NaN</td>\n",
       "      <td>NaN</td>\n",
       "      <td>4.0</td>\n",
       "      <td>1</td>\n",
       "      <td>None</td>\n",
       "      <td>None</td>\n",
       "      <td>None</td>\n",
       "    </tr>\n",
       "    <tr>\n",
       "      <th>3923</th>\n",
       "      <td>2011-10-11</td>\n",
       "      <td>0</td>\n",
       "      <td>London City-New York JFK via Shannon on A318 b...</td>\n",
       "      <td>NaN</td>\n",
       "      <td>NaN</td>\n",
       "      <td>Premium Economy</td>\n",
       "      <td>NaN</td>\n",
       "      <td>NaN</td>\n",
       "      <td>1.0</td>\n",
       "      <td>3.0</td>\n",
       "      <td>5.0</td>\n",
       "      <td>NaN</td>\n",
       "      <td>NaN</td>\n",
       "      <td>NaN</td>\n",
       "      <td>1.0</td>\n",
       "      <td>0</td>\n",
       "      <td>None</td>\n",
       "      <td>None</td>\n",
       "      <td>None</td>\n",
       "    </tr>\n",
       "    <tr>\n",
       "      <th>3924</th>\n",
       "      <td>2011-10-09</td>\n",
       "      <td>0</td>\n",
       "      <td>SIN-LHR BA12 B747-436 First Class. Old aircraf...</td>\n",
       "      <td>NaN</td>\n",
       "      <td>NaN</td>\n",
       "      <td>First Class</td>\n",
       "      <td>NaN</td>\n",
       "      <td>NaN</td>\n",
       "      <td>4.0</td>\n",
       "      <td>5.0</td>\n",
       "      <td>5.0</td>\n",
       "      <td>2.0</td>\n",
       "      <td>NaN</td>\n",
       "      <td>NaN</td>\n",
       "      <td>2.0</td>\n",
       "      <td>0</td>\n",
       "      <td>None</td>\n",
       "      <td>None</td>\n",
       "      <td>None</td>\n",
       "    </tr>\n",
       "  </tbody>\n",
       "</table>\n",
       "<p>771 rows × 19 columns</p>\n",
       "</div>"
      ],
      "text/plain": [
       "     posted_date  is_verified  \\\n",
       "287   2023-09-01            1   \n",
       "565   2022-07-13            1   \n",
       "2089  2017-01-26            0   \n",
       "3157  2015-06-07            0   \n",
       "3158  2015-06-07            0   \n",
       "...          ...          ...   \n",
       "3920  2012-08-29            0   \n",
       "3921  2012-08-28            0   \n",
       "3922  2011-10-12            0   \n",
       "3923  2011-10-11            0   \n",
       "3924  2011-10-09            0   \n",
       "\n",
       "                                                comment    aircraft  \\\n",
       "287   ✅Trip Verified|  British Airways absolutely do...  Boeing 777   \n",
       "565   ✅Trip Verified|  Over 1 week ago I cancelled 2...         NaN   \n",
       "2089  ✅Verified Review|  London Heathrow to Chicago ...         NaN   \n",
       "3157  Travelled from Venice to Gatwick on 28th May c...         NaN   \n",
       "3158  Worst customer experience on BA flight. I have...         NaN   \n",
       "...                                                 ...         ...   \n",
       "3920  YYZ to LHR - July 2012 - I flew overnight in p...         NaN   \n",
       "3921  LHR to HAM. Purser addresses all club passenge...         NaN   \n",
       "3922  My son who had worked for British Airways urge...         NaN   \n",
       "3923  London City-New York JFK via Shannon on A318 b...         NaN   \n",
       "3924  SIN-LHR BA12 B747-436 First Class. Old aircraf...         NaN   \n",
       "\n",
       "     traveller_type      cabin_class                  route   flight_date  \\\n",
       "287             NaN    Economy Class  Los Angeles to London   August 2023   \n",
       "565             NaN   Business Class       London to Malaga     July 2022   \n",
       "2089            NaN      First Class             LHR to ORD  January 2017   \n",
       "3157            NaN   Business Class                    NaN           NaN   \n",
       "3158            NaN    Economy Class                    NaN           NaN   \n",
       "...             ...              ...                    ...           ...   \n",
       "3920            NaN  Premium Economy                    NaN           NaN   \n",
       "3921            NaN   Business Class                    NaN           NaN   \n",
       "3922            NaN    Economy Class                    NaN           NaN   \n",
       "3923            NaN  Premium Economy                    NaN           NaN   \n",
       "3924            NaN      First Class                    NaN           NaN   \n",
       "\n",
       "      seat_comfort_rating  cabin_staff_service_rating  \\\n",
       "287                   1.0                         1.0   \n",
       "565                   NaN                         NaN   \n",
       "2089                  2.0                         3.0   \n",
       "3157                  1.0                         1.0   \n",
       "3158                  1.0                         1.0   \n",
       "...                   ...                         ...   \n",
       "3920                  4.0                         3.0   \n",
       "3921                  4.0                         5.0   \n",
       "3922                  NaN                         NaN   \n",
       "3923                  1.0                         3.0   \n",
       "3924                  4.0                         5.0   \n",
       "\n",
       "      food_and_beverages_rating  inflight_entertainment_rating  \\\n",
       "287                         1.0                            1.0   \n",
       "565                         NaN                            NaN   \n",
       "2089                        2.0                            3.0   \n",
       "3157                        1.0                            1.0   \n",
       "3158                        2.0                            2.0   \n",
       "...                         ...                            ...   \n",
       "3920                        3.0                            4.0   \n",
       "3921                        4.0                            NaN   \n",
       "3922                        NaN                            NaN   \n",
       "3923                        5.0                            NaN   \n",
       "3924                        5.0                            2.0   \n",
       "\n",
       "      ground_service_rating  wifi_and_connectivity_rating  \\\n",
       "287                     1.0                           NaN   \n",
       "565                     NaN                           NaN   \n",
       "2089                    2.0                           NaN   \n",
       "3157                    NaN                           NaN   \n",
       "3158                    NaN                           NaN   \n",
       "...                     ...                           ...   \n",
       "3920                    NaN                           NaN   \n",
       "3921                    NaN                           NaN   \n",
       "3922                    NaN                           NaN   \n",
       "3923                    NaN                           NaN   \n",
       "3924                    NaN                           NaN   \n",
       "\n",
       "      value_for_money_rating  is_recommended    departure arrivals   via  \n",
       "287                      1.0               0  Los Angeles   London  None  \n",
       "565                      1.0               0       London   Malaga  None  \n",
       "2089                     2.0               0          LHR      ORD  None  \n",
       "3157                     1.0               0         None     None  None  \n",
       "3158                     1.0               0         None     None  None  \n",
       "...                      ...             ...          ...      ...   ...  \n",
       "3920                     4.0               1         None     None  None  \n",
       "3921                     3.0               1         None     None  None  \n",
       "3922                     4.0               1         None     None  None  \n",
       "3923                     1.0               0         None     None  None  \n",
       "3924                     2.0               0         None     None  None  \n",
       "\n",
       "[771 rows x 19 columns]"
      ]
     },
     "execution_count": 12,
     "metadata": {},
     "output_type": "execute_result"
    }
   ],
   "source": [
    "df[df[\"traveller_type\"].isnull()]"
   ]
  },
  {
   "cell_type": "code",
   "execution_count": 13,
   "id": "1b488ef5-5bb3-4128-858e-a3fd36e35285",
   "metadata": {
    "tags": []
   },
   "outputs": [
    {
     "name": "stdout",
     "output_type": "stream",
     "text": [
      "<class 'pandas.core.frame.DataFrame'>\n",
      "RangeIndex: 3925 entries, 0 to 3924\n",
      "Data columns (total 19 columns):\n",
      " #   Column                         Non-Null Count  Dtype  \n",
      "---  ------                         --------------  -----  \n",
      " 0   posted_date                    3925 non-null   object \n",
      " 1   is_verified                    3925 non-null   int64  \n",
      " 2   comment                        3925 non-null   object \n",
      " 3   aircraft                       2045 non-null   object \n",
      " 4   traveller_type                 3154 non-null   object \n",
      " 5   cabin_class                    3923 non-null   object \n",
      " 6   route                          3149 non-null   object \n",
      " 7   flight_date                    3147 non-null   object \n",
      " 8   seat_comfort_rating            3798 non-null   float64\n",
      " 9   cabin_staff_service_rating     3783 non-null   float64\n",
      " 10  food_and_beverages_rating      3485 non-null   float64\n",
      " 11  inflight_entertainment_rating  2670 non-null   float64\n",
      " 12  ground_service_rating          3075 non-null   float64\n",
      " 13  wifi_and_connectivity_rating   688 non-null    float64\n",
      " 14  value_for_money_rating         3924 non-null   float64\n",
      " 15  is_recommended                 3925 non-null   int64  \n",
      " 16  departure                      3133 non-null   object \n",
      " 17  arrivals                       3133 non-null   object \n",
      " 18  via                            550 non-null    object \n",
      "dtypes: float64(7), int64(2), object(10)\n",
      "memory usage: 582.7+ KB\n"
     ]
    }
   ],
   "source": [
    "df.info()"
   ]
  },
  {
   "cell_type": "code",
   "execution_count": 15,
   "id": "1acaa4f4-4fc3-4122-a0b4-56a676db809c",
   "metadata": {
    "tags": []
   },
   "outputs": [
    {
     "name": "stdout",
     "output_type": "stream",
     "text": [
      "<class 'pandas.core.frame.DataFrame'>\n",
      "RangeIndex: 3925 entries, 0 to 3924\n",
      "Data columns (total 19 columns):\n",
      " #   Column                         Non-Null Count  Dtype  \n",
      "---  ------                         --------------  -----  \n",
      " 0   posted_date                    3925 non-null   object \n",
      " 1   is_verified                    3925 non-null   int64  \n",
      " 2   comment                        3925 non-null   object \n",
      " 3   aircraft                       2045 non-null   object \n",
      " 4   traveller_type                 3154 non-null   object \n",
      " 5   cabin_class                    3923 non-null   object \n",
      " 6   route                          3149 non-null   object \n",
      " 7   flight_date                    3147 non-null   object \n",
      " 8   seat_comfort_rating            3798 non-null   float64\n",
      " 9   cabin_staff_service_rating     3783 non-null   float64\n",
      " 10  food_and_beverages_rating      3485 non-null   float64\n",
      " 11  inflight_entertainment_rating  2670 non-null   float64\n",
      " 12  ground_service_rating          3075 non-null   float64\n",
      " 13  wifi_and_connectivity_rating   688 non-null    float64\n",
      " 14  value_for_money_rating         3924 non-null   float64\n",
      " 15  is_recommended                 3925 non-null   int64  \n",
      " 16  departure                      3133 non-null   object \n",
      " 17  arrivals                       3133 non-null   object \n",
      " 18  via                            550 non-null    object \n",
      "dtypes: float64(7), int64(2), object(10)\n",
      "memory usage: 582.7+ KB\n"
     ]
    }
   ],
   "source": [
    "df.info()"
   ]
  },
  {
   "cell_type": "markdown",
   "id": "a4f12489-a144-47ba-84a8-16253f97eb87",
   "metadata": {},
   "source": [
    "There seems to be many missing values in below columns:\n",
    "\n",
    "- aircraft (roughly 2000)\n",
    "- traveller_type (roughly 800)\n",
    "- cabin_class (2)\n",
    "- route (roughly 800)\n",
    "- flight_date (roughly 800)\n",
    "- seat_comfort_rating (roughly 200)\n",
    "- cabin_staff_service_rating (roughly 800)\n",
    "- food_and_beverages_rating (roughly 500)\n",
    "- inflight_entertainment_rating (roughly 1400)\n",
    "- ground_service_rating (roughly 900)\n",
    "- wifi_and_connectivity_rating (roughly 3300)\n",
    "- value_for_money_rating (1) \n",
    "\n",
    "We can compute the percentage of missing values per column below:"
   ]
  },
  {
   "cell_type": "code",
   "execution_count": 29,
   "id": "988e24a6-784b-4546-a76a-82344a32027e",
   "metadata": {
    "tags": []
   },
   "outputs": [
    {
     "name": "stdout",
     "output_type": "stream",
     "text": [
      "posted_date: 0.0%\n",
      "is_verified: 0.0%\n",
      "comment: 0.0%\n",
      "aircraft: 48.0%\n",
      "traveller_type: 20.0%\n",
      "cabin_class: 0.0%\n",
      "route: 20.0%\n",
      "flight_date: 20.0%\n",
      "seat_comfort_rating: 3.0%\n",
      "cabin_staff_service_rating: 4.0%\n",
      "food_and_beverages_rating: 11.0%\n",
      "inflight_entertainment_rating: 32.0%\n",
      "ground_service_rating: 22.0%\n",
      "wifi_and_connectivity_rating: 82.0%\n",
      "value_for_money_rating: 0.0%\n",
      "is_recommended: 0.0%\n",
      "departure: 20.0%\n",
      "arrivals: 20.0%\n",
      "via: 86.0%\n"
     ]
    }
   ],
   "source": [
    "for col in df.columns:\n",
    "    ratio = df[col].isnull().sum()/len(df)\n",
    "    ratio = round(ratio,2) * 100\n",
    "    print(f\"{col}: {ratio}%\")"
   ]
  },
  {
   "cell_type": "markdown",
   "id": "6778ced7-3c89-44df-9ed1-1303df43343d",
   "metadata": {
    "tags": []
   },
   "source": [
    "We have to decide if filling those missing values make sense or not. \n",
    "\n",
    "1. seat_comfort_rating, cabin_staff_service_rating can be filled with the median rate.\n",
    "2. traveller_type can be filled with \"Not Verified\" as removing these values could remove important information from comments etc.\n",
    "3. \n"
   ]
  },
  {
   "cell_type": "code",
   "execution_count": 36,
   "id": "d0b98ed0-c1a6-4b6f-85a5-863f7380d00f",
   "metadata": {
    "tags": []
   },
   "outputs": [
    {
     "name": "stdout",
     "output_type": "stream",
     "text": [
      "<class 'pandas.core.frame.DataFrame'>\n",
      "RangeIndex: 3925 entries, 0 to 3924\n",
      "Data columns (total 19 columns):\n",
      " #   Column                         Non-Null Count  Dtype  \n",
      "---  ------                         --------------  -----  \n",
      " 0   posted_date                    3925 non-null   object \n",
      " 1   is_verified                    3925 non-null   int64  \n",
      " 2   comment                        3925 non-null   object \n",
      " 3   aircraft                       2045 non-null   object \n",
      " 4   traveller_type                 3154 non-null   object \n",
      " 5   cabin_class                    3923 non-null   object \n",
      " 6   route                          3149 non-null   object \n",
      " 7   flight_date                    3147 non-null   object \n",
      " 8   seat_comfort_rating            3925 non-null   float64\n",
      " 9   cabin_staff_service_rating     3925 non-null   float64\n",
      " 10  food_and_beverages_rating      3485 non-null   float64\n",
      " 11  inflight_entertainment_rating  2670 non-null   float64\n",
      " 12  ground_service_rating          3075 non-null   float64\n",
      " 13  wifi_and_connectivity_rating   688 non-null    float64\n",
      " 14  value_for_money_rating         3924 non-null   float64\n",
      " 15  is_recommended                 3925 non-null   int64  \n",
      " 16  departure                      3133 non-null   object \n",
      " 17  arrivals                       3133 non-null   object \n",
      " 18  via                            550 non-null    object \n",
      "dtypes: float64(7), int64(2), object(10)\n",
      "memory usage: 582.7+ KB\n"
     ]
    }
   ],
   "source": [
    "# Replacing NaN for seat_comfort_rating, cabin_staff_service_rating with median rate.\n",
    "seat_comfort_rating_median = df.seat_comfort_rating.median()\n",
    "cabin_staff_service_rating_median = df.cabin_staff_service_rating.median()\n",
    "\n",
    "df.seat_comfort_rating = df.seat_comfort_rating.fillna(seat_comfort_rating_median)\n",
    "df.cabin_staff_service_rating = df.cabin_staff_service_rating.fillna(cabin_staff_service_rating_median)\n",
    "\n",
    "df.info()"
   ]
  },
  {
   "cell_type": "code",
   "execution_count": 40,
   "id": "f3cd7fa2-2e76-4d66-8785-48e5715253f8",
   "metadata": {
    "tags": []
   },
   "outputs": [
    {
     "data": {
      "text/plain": [
       "count    3925.000000\n",
       "mean        3.222930\n",
       "std         1.467967\n",
       "min         1.000000\n",
       "25%         2.000000\n",
       "50%         3.000000\n",
       "75%         5.000000\n",
       "max         5.000000\n",
       "Name: cabin_staff_service_rating, dtype: float64"
      ]
     },
     "execution_count": 40,
     "metadata": {},
     "output_type": "execute_result"
    }
   ],
   "source": [
    "df.cabin_staff_service_rating.describe()"
   ]
  },
  {
   "cell_type": "code",
   "execution_count": 46,
   "id": "282e00b8-ed48-4ffd-be90-8ca2634f49d0",
   "metadata": {
    "tags": []
   },
   "outputs": [
    {
     "name": "stdout",
     "output_type": "stream",
     "text": [
      "['Couple Leisure' 'Solo Leisure' 'Business' 'Family Leisure' nan]\n"
     ]
    },
    {
     "data": {
      "text/plain": [
       "count               3154\n",
       "unique                 4\n",
       "top       Couple Leisure\n",
       "freq                1063\n",
       "Name: traveller_type, dtype: object"
      ]
     },
     "execution_count": 46,
     "metadata": {},
     "output_type": "execute_result"
    }
   ],
   "source": [
    "print(df.traveller_type.unique())\n",
    "\n",
    "df.traveller_type.describe()"
   ]
  },
  {
   "cell_type": "markdown",
   "id": "3eef70ef-883f-48ca-b55f-36af286f8b5c",
   "metadata": {
    "tags": []
   },
   "source": [
    "There are 2 x ways to fill these missing values in traveller_type column. One is using mode (frequent value) and the other is using random vaslue based on exisiting value (traveller_type distribution), and this time we are going for simpler imputation option, that is replacing NaN with mode.\n",
    "\n",
    "Note that this imputation could be biased as we are not introducing any randomness, however in the sense of replication, this is better and the easier option.\n",
    "\n"
   ]
  },
  {
   "cell_type": "code",
   "execution_count": 64,
   "id": "5666c60b-35d4-4101-89c5-61519d584c60",
   "metadata": {
    "tags": []
   },
   "outputs": [],
   "source": [
    "traveller_type_mode = df.traveller_type.mode()[0]\n",
    "\n",
    "traveller_type_mode\n",
    "\n",
    "df.traveller_type = df.traveller_type.fillna(traveller_type_mode)"
   ]
  },
  {
   "cell_type": "code",
   "execution_count": 66,
   "id": "525dcc91-d87d-4b4d-8ea5-d21cd9824d69",
   "metadata": {
    "tags": []
   },
   "outputs": [
    {
     "name": "stdout",
     "output_type": "stream",
     "text": [
      "<class 'pandas.core.frame.DataFrame'>\n",
      "RangeIndex: 3925 entries, 0 to 3924\n",
      "Data columns (total 19 columns):\n",
      " #   Column                         Non-Null Count  Dtype  \n",
      "---  ------                         --------------  -----  \n",
      " 0   posted_date                    3925 non-null   object \n",
      " 1   is_verified                    3925 non-null   int64  \n",
      " 2   comment                        3925 non-null   object \n",
      " 3   aircraft                       3925 non-null   object \n",
      " 4   traveller_type                 3925 non-null   object \n",
      " 5   cabin_class                    3923 non-null   object \n",
      " 6   route                          3149 non-null   object \n",
      " 7   flight_date                    3147 non-null   object \n",
      " 8   seat_comfort_rating            3925 non-null   float64\n",
      " 9   cabin_staff_service_rating     3925 non-null   float64\n",
      " 10  food_and_beverages_rating      3485 non-null   float64\n",
      " 11  inflight_entertainment_rating  2670 non-null   float64\n",
      " 12  ground_service_rating          3075 non-null   float64\n",
      " 13  wifi_and_connectivity_rating   688 non-null    float64\n",
      " 14  value_for_money_rating         3924 non-null   float64\n",
      " 15  is_recommended                 3925 non-null   int64  \n",
      " 16  departure                      3133 non-null   object \n",
      " 17  arrivals                       3133 non-null   object \n",
      " 18  via                            550 non-null    object \n",
      "dtypes: float64(7), int64(2), object(10)\n",
      "memory usage: 582.7+ KB\n"
     ]
    }
   ],
   "source": [
    "df.aircraft = df.aircraft.fillna(\"Unknown\")\n",
    "\n",
    "df.info()"
   ]
  },
  {
   "cell_type": "code",
   "execution_count": 65,
   "id": "84c8444d-7c6d-404a-9698-f235e5cda337",
   "metadata": {
    "tags": []
   },
   "outputs": [
    {
     "name": "stdout",
     "output_type": "stream",
     "text": [
      "<class 'pandas.core.frame.DataFrame'>\n",
      "RangeIndex: 3925 entries, 0 to 3924\n",
      "Data columns (total 19 columns):\n",
      " #   Column                         Non-Null Count  Dtype  \n",
      "---  ------                         --------------  -----  \n",
      " 0   posted_date                    3925 non-null   object \n",
      " 1   is_verified                    3925 non-null   int64  \n",
      " 2   comment                        3925 non-null   object \n",
      " 3   aircraft                       2045 non-null   object \n",
      " 4   traveller_type                 3925 non-null   object \n",
      " 5   cabin_class                    3923 non-null   object \n",
      " 6   route                          3149 non-null   object \n",
      " 7   flight_date                    3147 non-null   object \n",
      " 8   seat_comfort_rating            3925 non-null   float64\n",
      " 9   cabin_staff_service_rating     3925 non-null   float64\n",
      " 10  food_and_beverages_rating      3485 non-null   float64\n",
      " 11  inflight_entertainment_rating  2670 non-null   float64\n",
      " 12  ground_service_rating          3075 non-null   float64\n",
      " 13  wifi_and_connectivity_rating   688 non-null    float64\n",
      " 14  value_for_money_rating         3924 non-null   float64\n",
      " 15  is_recommended                 3925 non-null   int64  \n",
      " 16  departure                      3133 non-null   object \n",
      " 17  arrivals                       3133 non-null   object \n",
      " 18  via                            550 non-null    object \n",
      "dtypes: float64(7), int64(2), object(10)\n",
      "memory usage: 582.7+ KB\n"
     ]
    }
   ],
   "source": [
    "df.info()"
   ]
  },
  {
   "cell_type": "code",
   "execution_count": 67,
   "id": "03258380-00b2-4b82-bfd1-ed2b0bc9b2fd",
   "metadata": {
    "tags": []
   },
   "outputs": [
    {
     "name": "stdout",
     "output_type": "stream",
     "text": [
      "<class 'pandas.core.frame.DataFrame'>\n",
      "Index: 3923 entries, 0 to 3924\n",
      "Data columns (total 19 columns):\n",
      " #   Column                         Non-Null Count  Dtype  \n",
      "---  ------                         --------------  -----  \n",
      " 0   posted_date                    3923 non-null   object \n",
      " 1   is_verified                    3923 non-null   int64  \n",
      " 2   comment                        3923 non-null   object \n",
      " 3   aircraft                       3923 non-null   object \n",
      " 4   traveller_type                 3923 non-null   object \n",
      " 5   cabin_class                    3923 non-null   object \n",
      " 6   route                          3148 non-null   object \n",
      " 7   flight_date                    3146 non-null   object \n",
      " 8   seat_comfort_rating            3923 non-null   float64\n",
      " 9   cabin_staff_service_rating     3923 non-null   float64\n",
      " 10  food_and_beverages_rating      3483 non-null   float64\n",
      " 11  inflight_entertainment_rating  2668 non-null   float64\n",
      " 12  ground_service_rating          3074 non-null   float64\n",
      " 13  wifi_and_connectivity_rating   687 non-null    float64\n",
      " 14  value_for_money_rating         3922 non-null   float64\n",
      " 15  is_recommended                 3923 non-null   int64  \n",
      " 16  departure                      3132 non-null   object \n",
      " 17  arrivals                       3132 non-null   object \n",
      " 18  via                            550 non-null    object \n",
      "dtypes: float64(7), int64(2), object(10)\n",
      "memory usage: 613.0+ KB\n"
     ]
    }
   ],
   "source": [
    "df.dropna(subset=[\"cabin_class\"], inplace=True)\n",
    "\n",
    "df.info()"
   ]
  },
  {
   "cell_type": "markdown",
   "id": "d9137296-2cb2-41cd-8037-140623349e24",
   "metadata": {},
   "source": [
    "Some ratings are still missing values ranging from 500 to 1300. we need to check if that is because the rating review was introduced after certain year or is because the service availability."
   ]
  },
  {
   "cell_type": "code",
   "execution_count": 104,
   "id": "1e2e5df2-cbdb-4909-b9f6-91a36cad9e75",
   "metadata": {
    "tags": []
   },
   "outputs": [],
   "source": [
    "df['flight_date_parsed'] = pd.to_datetime(df['flight_date'], format='%B %Y', errors='coerce')\n",
    "df['flight_year'] = df['flight_date_parsed'].dt.year\n",
    "df['flight_month'] = df['flight_date_parsed'].dt.month_name()"
   ]
  },
  {
   "cell_type": "code",
   "execution_count": 105,
   "id": "9687e523-f575-465c-93a8-de683e44a19d",
   "metadata": {
    "tags": []
   },
   "outputs": [],
   "source": [
    "df['posted_date_parsed'] = pd.to_datetime(df['posted_date'], format='%Y-%m-%d', errors='coerce')\n",
    "\n",
    "df['posted_year'] = df['posted_date_parsed'].dt.year"
   ]
  },
  {
   "cell_type": "code",
   "execution_count": 110,
   "id": "1f829fde-de84-4fc6-8ad8-696d7fd394ca",
   "metadata": {
    "tags": []
   },
   "outputs": [
    {
     "data": {
      "text/plain": [
       "2943"
      ]
     },
     "execution_count": 110,
     "metadata": {},
     "output_type": "execute_result"
    }
   ],
   "source": [
    "test = df[['posted_year', 'flight_year']]\n",
    "sum(test.posted_year == test.flight_year)"
   ]
  },
  {
   "cell_type": "code",
   "execution_count": 111,
   "id": "d056aad1-be9d-41e8-b77d-58d392bb842c",
   "metadata": {
    "tags": []
   },
   "outputs": [
    {
     "data": {
      "text/plain": [
       "0        True\n",
       "1        True\n",
       "2       False\n",
       "3        True\n",
       "4        True\n",
       "        ...  \n",
       "3920    False\n",
       "3921    False\n",
       "3922    False\n",
       "3923    False\n",
       "3924    False\n",
       "Length: 3923, dtype: bool"
      ]
     },
     "execution_count": 111,
     "metadata": {},
     "output_type": "execute_result"
    }
   ],
   "source": [
    "test.posted_year == test.flight_year"
   ]
  },
  {
   "cell_type": "code",
   "execution_count": 113,
   "id": "37f0ab14-3227-4c98-b743-e68e04af2d30",
   "metadata": {
    "tags": []
   },
   "outputs": [
    {
     "data": {
      "text/plain": [
       "posted_year      0\n",
       "flight_year    777\n",
       "dtype: int64"
      ]
     },
     "execution_count": 113,
     "metadata": {},
     "output_type": "execute_result"
    }
   ],
   "source": [
    "test.isnull().sum()"
   ]
  },
  {
   "cell_type": "code",
   "execution_count": 114,
   "id": "52368a1f-9a1d-4a43-8ee9-975fbc139e9a",
   "metadata": {
    "tags": []
   },
   "outputs": [
    {
     "data": {
      "text/plain": [
       "3720"
      ]
     },
     "execution_count": 114,
     "metadata": {},
     "output_type": "execute_result"
    }
   ],
   "source": [
    "777 + 2943"
   ]
  },
  {
   "cell_type": "code",
   "execution_count": 115,
   "id": "38ff3173-a1e4-411d-a99b-97d9f12bc0e5",
   "metadata": {
    "tags": []
   },
   "outputs": [
    {
     "data": {
      "text/plain": [
       "0       2025\n",
       "1       2025\n",
       "2       2025\n",
       "3       2025\n",
       "4       2025\n",
       "        ... \n",
       "3920    2012\n",
       "3921    2012\n",
       "3922    2011\n",
       "3923    2011\n",
       "3924    2011\n",
       "Name: posted_year, Length: 3923, dtype: int32"
      ]
     },
     "execution_count": 115,
     "metadata": {},
     "output_type": "execute_result"
    }
   ],
   "source": [
    "test.posted_year"
   ]
  },
  {
   "cell_type": "markdown",
   "id": "8bd32670-7a3b-4ecb-9325-31f713127c6f",
   "metadata": {},
   "source": [
    "Let's talk about flight_year. We can see that there are about 20% datapoints missing, and dropping these many rows is not good. As most reviews are written soon after flying, we could use posted_year as a reliable proxy.\n",
    "\n",
    "Now using this posted_year we can carry out time series analysis on missing ratings to see if those are because of service availability or questionare update.\n",
    "\n",
    "Let's go!!!"
   ]
  },
  {
   "cell_type": "code",
   "execution_count": 117,
   "id": "f4e7aca9-602e-4f00-b8e6-0fdedfb34279",
   "metadata": {
    "tags": []
   },
   "outputs": [],
   "source": [
    "import matplotlib.pyplot as plt\n",
    "\n",
    "def plot_missingness_by_year(df, column, date_col='posted_year'):\n",
    "    missing_by_year = (\n",
    "        df.groupby(date_col)[column]\n",
    "        .apply(lambda x: x.isna().mean() * 100)\n",
    "        .sort_index()\n",
    "    )\n",
    "\n",
    "    plt.figure(figsize=(10, 5))\n",
    "    missing_by_year.plot(kind='bar', title=f\"% Missing '{column}' by {date_col}\", ylabel='% Missing', xlabel='Year')\n",
    "    plt.xticks(rotation=45)\n",
    "    plt.grid(axis='y', linestyle='--', alpha=0.7)\n",
    "    plt.tight_layout()\n",
    "    plt.show()\n"
   ]
  },
  {
   "cell_type": "code",
   "execution_count": 118,
   "id": "6e6a3cb0-a4d2-4282-a034-ac2f93fce5d5",
   "metadata": {
    "tags": []
   },
   "outputs": [
    {
     "data": {
      "image/png": "[encoded data removed]",
      "text/plain": [
       "<Figure size 1000x500 with 1 Axes>"
      ]
     },
     "metadata": {},
     "output_type": "display_data"
    }
   ],
   "source": [
    "plot_missingness_by_year(df, 'food_and_beverages_rating')"
   ]
  },
  {
   "cell_type": "code",
   "execution_count": 119,
   "id": "2f718ed4-3cd1-4bda-8473-0e1c67e8918e",
   "metadata": {
    "tags": []
   },
   "outputs": [
    {
     "data": {
      "image/png": "[encoded data removed]",
      "text/plain": [
       "<Figure size 1000x500 with 1 Axes>"
      ]
     },
     "metadata": {},
     "output_type": "display_data"
    }
   ],
   "source": [
    "plot_missingness_by_year(df, 'inflight_entertainment_rating')"
   ]
  },
  {
   "cell_type": "code",
   "execution_count": 121,
   "id": "0b770d6c-8c1f-4379-9223-10af5f1ed082",
   "metadata": {
    "tags": []
   },
   "outputs": [
    {
     "data": {
      "image/png": "[encoded data removed]",
      "text/plain": [
       "<Figure size 1000x500 with 1 Axes>"
      ]
     },
     "metadata": {},
     "output_type": "display_data"
    }
   ],
   "source": [
    "plot_missingness_by_year(df, 'ground_service_rating')"
   ]
  },
  {
   "cell_type": "code",
   "execution_count": null,
   "id": "db3223bb-6e0c-4cc7-aaee-e7392a617689",
   "metadata": {},
   "outputs": [],
   "source": []
  }
 ],
 "metadata": {
  "kernelspec": {
   "display_name": "Python 3 (ipykernel)",
   "language": "python",
   "name": "python3"
  },
  "language_info": {
   "codemirror_mode": {
    "name": "ipython",
    "version": 3
   },
   "file_extension": ".py",
   "mimetype": "text/x-python",
   "name": "python",
   "nbconvert_exporter": "python",
   "pygments_lexer": "ipython3",
   "version": "3.11.5"
  }
 },
 "nbformat": 4,
 "nbformat_minor": 5
}
